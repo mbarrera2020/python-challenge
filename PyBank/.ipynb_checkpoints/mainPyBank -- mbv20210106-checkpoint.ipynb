{
 "cells": [
  {
   "cell_type": "code",
   "execution_count": 107,
   "metadata": {},
   "outputs": [],
   "source": [
    "# main -- for python-challenge PyBank\n",
    "import os\n",
    "import csv"
   ]
  },
  {
   "cell_type": "code",
   "execution_count": 108,
   "metadata": {},
   "outputs": [
    {
     "data": {
      "text/plain": [
       "'Resources\\\\budget_data.csv'"
      ]
     },
     "execution_count": 108,
     "metadata": {},
     "output_type": "execute_result"
    }
   ],
   "source": [
    "# setup path for input file location\n",
    "csvpath=os.path.join('Resources','budget_data.csv')\n",
    "csvpath"
   ]
  },
  {
   "cell_type": "code",
   "execution_count": 110,
   "metadata": {},
   "outputs": [
    {
     "name": "stdout",
     "output_type": "stream",
     "text": [
      "# of months:  86\n"
     ]
    }
   ],
   "source": [
    "# set variables to 0 -- this code is working!\n",
    "months = 0\n",
    "total = 0\n",
    "diff = 0\n",
    "\n",
    "# read the input file\n",
    "with open(csvpath) as csvfile:\n",
    "    csvreader = csv.reader(csvfile, delimiter=',')\n",
    "    \n",
    "    # determine the number of rows to read in the input file\n",
    "    num_rows = len(list(csvreader))\n",
    "    \n",
    "    # reduce rows by 1 since first row is a header\n",
    "    months = num_rows -1\n",
    "    print(\"# of months: \", months)"
   ]
  },
  {
   "cell_type": "code",
   "execution_count": 111,
   "metadata": {},
   "outputs": [
    {
     "name": "stdout",
     "output_type": "stream",
     "text": [
      "The following are the contents of the date list:\n",
      "['Jan-2010', 'Feb-2010', 'Mar-2010', 'Apr-2010', 'May-2010', 'Jun-2010', 'Jul-2010', 'Aug-2010', 'Sep-2010', 'Oct-2010', 'Nov-2010', 'Dec-2010', 'Jan-2011', 'Feb-2011', 'Mar-2011', 'Apr-2011', 'May-2011', 'Jun-2011', 'Jul-2011', 'Aug-2011', 'Sep-2011', 'Oct-2011', 'Nov-2011', 'Dec-2011', 'Jan-2012', 'Feb-2012', 'Mar-2012', 'Apr-2012', 'May-2012', 'Jun-2012', 'Jul-2012', 'Aug-2012', 'Sep-2012', 'Oct-2012', 'Nov-2012', 'Dec-2012', 'Jan-2013', 'Feb-2013', 'Mar-2013', 'Apr-2013', 'May-2013', 'Jun-2013', 'Jul-2013', 'Aug-2013', 'Sep-2013', 'Oct-2013', 'Nov-2013', 'Dec-2013', 'Jan-2014', 'Feb-2014', 'Mar-2014', 'Apr-2014', 'May-2014', 'Jun-2014', 'Jul-2014', 'Aug-2014', 'Sep-2014', 'Oct-2014', 'Nov-2014', 'Dec-2014', 'Jan-2015', 'Feb-2015', 'Mar-2015', 'Apr-2015', 'May-2015', 'Jun-2015', 'Jul-2015', 'Aug-2015', 'Sep-2015', 'Oct-2015', 'Nov-2015', 'Dec-2015', 'Jan-2016', 'Feb-2016', 'Mar-2016', 'Apr-2016', 'May-2016', 'Jun-2016', 'Jul-2016', 'Aug-2016', 'Sep-2016', 'Oct-2016', 'Nov-2016', 'Dec-2016', 'Jan-2017', 'Feb-2017']\n",
      "\n",
      "The following are the contents of the profit_loss list:\n",
      "[867884, 984655, 322013, -69417, 310503, 522857, 1033096, 604885, -216386, 477532, 893810, -80353, 779806, -335203, 697845, 793163, 485070, 584122, 62729, 668179, 899906, 834719, 132003, 309978, -755566, 1170593, 252788, 1151518, 817256, 570757, 506702, -1022534, 475062, 779976, 144175, 542494, 359333, 321469, 67780, 471435, 565603, 872480, 789480, 999942, -1196225, 268997, -687986, 1150461, 682458, 617856, 824098, 581943, 132864, 448062, 689161, 800701, 1166643, 947333, 578668, 988505, 1139715, 1029471, 687533, -524626, 158620, 87795, 423389, 840723, 568529, 332067, 989499, 778237, 650000, -1100387, -174946, 757143, 445709, 712961, -1163797, 569899, 768450, 102685, 795914, 60988, 138230, 671099]\n",
      "\n",
      "Total amount =  38382578\n",
      "\n"
     ]
    }
   ],
   "source": [
    "# set variables to 0 -- -- this code is working!\n",
    "total = 0\n",
    "\n",
    "with open(csvpath, newline='', encoding='utf-8') as inputfile:\n",
    "    csvreader=csv.reader(inputfile, delimiter=',')\n",
    "        \n",
    "    next(inputfile)   # skip header row\n",
    "\n",
    "    #Lists to store data\n",
    "    date_lst=[]\n",
    "    profitloss_lst=[]\n",
    "    \n",
    "    for row in csvreader:\n",
    "            # add date to the list\n",
    "            date_lst.append(row[0])                \n",
    "            \n",
    "            # convert string amount to integer\n",
    "            pf=int(row[1])\n",
    "            \n",
    "            # add integer amount to the profit/loss list\n",
    "            profitloss_lst.append(pf)\n",
    "            \n",
    "            # track total amount\n",
    "            total = total + pf\n",
    "             \n",
    "    # TEMP code - to show if data got stored \n",
    "    print(\"The following are the contents of the date list:\")\n",
    "    print(date_lst)\n",
    "    print()\n",
    "    print(\"The following are the contents of the profit_loss list:\")\n",
    "    print(profitloss_lst)\n",
    "    print()\n",
    "    print(\"Total amount = \", total)     # Note:  expected result is 38,382,578\n",
    "    print()\n",
    "    "
   ]
  },
  {
   "cell_type": "code",
   "execution_count": 128,
   "metadata": {},
   "outputs": [
    {
     "name": "stdout",
     "output_type": "stream",
     "text": [
      "The following are the contents of the change list:\n",
      "[0, 116771, -662642, -391430, 379920, 212354, 510239, -428211, -821271, 693918, 416278, -974163, 860159, -1115009, 1033048, 95318, -308093, 99052, -521393, 605450, 231727, -65187, -702716, 177975, -1065544, 1926159, -917805, 898730, -334262, -246499, -64055, -1529236, 1497596, 304914, -635801, 398319, -183161, -37864, -253689, 403655, 94168, 306877, -83000, 210462, -2196167, 1465222, -956983, 1838447, -468003, -64602, 206242, -242155, -449079, 315198, 241099, 111540, 365942, -219310, -368665, 409837, 151210, -110244, -341938, -1212159, 683246, -70825, 335594, 417334, -272194, -236462, 657432, -211262, -128237, -1750387, 925441, 932089, -311434, 267252, -1876758, 1733696, 198551, -665765, 693229, -734926, 77242, 532869]\n",
      "\n",
      "<class 'list'>\n"
     ]
    }
   ],
   "source": [
    "# use the profit_loss list to create a change / difference list -- this code is working!\n",
    "# set variables \n",
    "count = 1\n",
    "diff = 0\n",
    "total_diff = 0\n",
    "  \n",
    "#List to store change in amount data\n",
    "change_lst=[]\n",
    "\n",
    "# temp code for testing / debugging only\n",
    "#print(count)\n",
    "#print(diff)\n",
    "#print(months)\n",
    "change_lst.append(0)\n",
    "\n",
    "while count != months:\n",
    "    # calculate the difference and store in change list\n",
    "    diff = profitloss_lst[count] - profitloss_lst[count-1]\n",
    "            \n",
    "    # add change amount to the list\n",
    "    change_lst.append(diff)\n",
    "    \n",
    "    # track total change amount\n",
    "    total_diff = total_diff + diff\n",
    "  \n",
    "    count = count + 1\n",
    "\n",
    "# TEMP code - to show if data got stored in change list\n",
    "print(\"The following are the contents of the change list:\")\n",
    "print(change_lst)\n",
    "print()\n",
    "print(type(change_lst))"
   ]
  },
  {
   "cell_type": "code",
   "execution_count": 129,
   "metadata": {},
   "outputs": [
    {
     "name": "stdout",
     "output_type": "stream",
     "text": [
      "Greatest Increase (expected result: $1,926,159):  1926159\n",
      "Greatest Increase row is:  25\n",
      "Greatest Decrease (expected result: $1,926,159):  -2196167\n",
      "Greatest Decrease row is:  44\n"
     ]
    }
   ],
   "source": [
    "# -- search the month that matches the greatest inc & dec\n",
    "\n",
    "# setup path for input file location\n",
    "csvpath=os.path.join('Resources','budget_data.csv')\n",
    "csvpath\n",
    "\n",
    "#gr8inc=str(greatest_inc)\n",
    "#gr8dec=str(greatest_dec)\n",
    "\n",
    "# i is a row counter\n",
    "i=2\n",
    "\n",
    "while i != len(change_lst):\n",
    "    if greatest_inc == change_lst[i]:\n",
    "        #temp print the change_lst amount\n",
    "        print(\"Greatest Increase (expected result: $1,926,159): \", change_lst[i])\n",
    "        gr8inc_monthrow = i\n",
    "        print(\"Greatest Increase row is: \", gr8inc_monthrow)\n",
    "    elif greatest_dec == change_lst[i]:\n",
    "        #temp print the change_lst amount\n",
    "        print(\"Greatest Decrease (expected result: $1,926,159): \", change_lst[i])\n",
    "        gr8dec_monthrow = i\n",
    "        print(\"Greatest Decrease row is: \", gr8dec_monthrow)\n",
    "    i = i + 1"
   ]
  },
  {
   "cell_type": "code",
   "execution_count": 130,
   "metadata": {},
   "outputs": [],
   "source": []
  },
  {
   "cell_type": "code",
   "execution_count": 146,
   "metadata": {},
   "outputs": [
    {
     "name": "stdout",
     "output_type": "stream",
     "text": [
      "Total months:  86\n",
      "\n",
      "Total:  $38,382,578.00\n",
      "\n",
      "Average change:  $-2,315.12\n",
      "\n",
      "Greatest Increase:  Feb-2012   $1,926,159.00\n",
      "\n",
      "Greatest Decrease:  Sep-2013   $-2,196,167.00\n"
     ]
    }
   ],
   "source": [
    "# display the values\n",
    "print(\"Total months: \", months)\n",
    "print()\n",
    "\n",
    "print(\"Total: \", total_dc)\n",
    "print()\n",
    "\n",
    "# convert to dollar currency\n",
    "# total_diffdc = \"${:,.2f}\".format(total_diff)\n",
    "# print(\"Total change: \", total_diffdc)\n",
    "# print()\n",
    "\n",
    "# average using total / # of items\n",
    "num_diff = len(change_lst) - 1\n",
    "avg = round((sum(change_lst) / num_diff) ,2)\n",
    "# convert to dollar currency\n",
    "avgdc = \"${:,.2f}\".format(avg)\n",
    "\n",
    "print(\"Average change: \", avgdc)\n",
    "print()\n",
    "\n",
    "greatest_inc = max(change_lst)\n",
    "# convert to dollar currency\n",
    "greatest_incdc = \"${:,.2f}\".format(greatest_inc)\n",
    "print(\"Greatest Increase: \", date_lst[x], \" \", greatest_incdc)\n",
    "print()\n",
    "greatest_dec = min(change_lst)\n",
    "# convert to dollar currency\n",
    "greatest_decdc = \"${:,.2f}\".format(greatest_dec)\n",
    "print(\"Greatest Decrease: \", date_lst[y], \" \", greatest_decdc)"
   ]
  },
  {
   "cell_type": "code",
   "execution_count": 147,
   "metadata": {},
   "outputs": [],
   "source": [
    "# create output file <analysis_PyBank.txt> to store analysis data and \n",
    "# store the file in the <analysis> folder\n",
    "# import os\n",
    "output_path=os.path.join('analysis','analysis_PyBank.txt')"
   ]
  },
  {
   "cell_type": "code",
   "execution_count": 148,
   "metadata": {},
   "outputs": [],
   "source": [
    "# these are the final variables for the analysis doc\n",
    "# months\n",
    "# total_dc\n",
    "# avg1dc\n",
    "# avg2dc\n",
    "# greatest_inc_month\n",
    "# greatest_incdc\n",
    "# greatest_dec_month\n",
    "# greatest_decdc\n",
    "\n",
    "x = gr8inc_monthrow\n",
    "y = gr8dec_monthrow\n",
    "\n",
    "num_diff = len(change_lst) - 1\n",
    "\n",
    "# convert to dollar currency\n",
    "total_dc = \"${:,.2f}\".format(total)\n",
    "\n",
    "# average using total / # of items\n",
    "avg = round(sum(change_lst) / num_diff ,2)\n",
    "\n",
    "# convert to dollar currency\n",
    "avgdc = \"${:,.2f}\".format(avg)\n",
    "\n",
    "greatest_inc = max(change_lst)\n",
    "\n",
    "# convert to dollar currency\n",
    "greatest_incdc = \"${:,.2f}\".format(greatest_inc)\n",
    "\n",
    "greatest_dec = min(change_lst)\n",
    "\n",
    "# convert to dollar currency\n",
    "greatest_decdc = \"${:,.2f}\".format(greatest_dec)\n",
    "\n",
    "greatest_inc_month = date_lst[x]\n",
    "greatest_dec_month = date_lst[y]"
   ]
  },
  {
   "cell_type": "code",
   "execution_count": 150,
   "metadata": {},
   "outputs": [],
   "source": [
    "# create output file <analysis_PyBank.txt> to store analysis data and \n",
    "# store the file in the <analysis> folder\n",
    "# import os\n",
    "output_path=os.path.join('analysis','analysis_PyBank.txt')\n",
    "\n",
    "# open the output file and write the analysis data results\n",
    "with open(output_path, 'w', newline='') as txtfile:\n",
    "    header1 = 'PyBank Financial Analysis \\n'\n",
    "    header2 = '-------------------------------------------- \\n'\n",
    "    line1 = 'Total Months: '\n",
    "    line_fd = '\\n'\n",
    "    line2 = 'Total Amount: ' \n",
    "    line3 = 'Average Change: '\n",
    "    line4 = 'Greatest Increase in Profits: '\n",
    "    line5 = 'Greatest Decrese in Profits:  '\n",
    "    txtfile.write(header1)\n",
    "    txtfile.write(header2)\n",
    "    txtfile.write(line1 + str(months))\n",
    "    txtfile.write(line_fd)\n",
    "    txtfile.write(line2 + str(total_dc))\n",
    "    txtfile.write(line_fd)\n",
    "    txtfile.write(line3 + str(avgdc))\n",
    "    txtfile.write(line_fd)\n",
    "    txtfile.write(line4 + greatest_inc_month + \"  \" + str(greatest_incdc))\n",
    "    txtfile.write(line_fd)\n",
    "    txtfile.write(line5 + greatest_dec_month + \"  \" + str(greatest_decdc))"
   ]
  }
 ],
 "metadata": {
  "kernelspec": {
   "display_name": "Python 3",
   "language": "python",
   "name": "python3"
  },
  "language_info": {
   "codemirror_mode": {
    "name": "ipython",
    "version": 3
   },
   "file_extension": ".py",
   "mimetype": "text/x-python",
   "name": "python",
   "nbconvert_exporter": "python",
   "pygments_lexer": "ipython3",
   "version": "3.8.5"
  }
 },
 "nbformat": 4,
 "nbformat_minor": 4
}
