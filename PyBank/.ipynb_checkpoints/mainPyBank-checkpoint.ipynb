{
 "cells": [
  {
   "cell_type": "code",
   "execution_count": 155,
   "metadata": {},
   "outputs": [],
   "source": [
    "# main -- for python-challenge PyBank\n",
    "import os\n",
    "import csv"
   ]
  },
  {
   "cell_type": "code",
   "execution_count": 156,
   "metadata": {},
   "outputs": [
    {
     "data": {
      "text/plain": [
       "'Resources\\\\budget_data.csv'"
      ]
     },
     "execution_count": 156,
     "metadata": {},
     "output_type": "execute_result"
    }
   ],
   "source": [
    "# setup path for input file location\n",
    "csvpath=os.path.join('Resources','budget_data.csv')\n",
    "csvpath"
   ]
  },
  {
   "cell_type": "code",
   "execution_count": 157,
   "metadata": {},
   "outputs": [
    {
     "name": "stdout",
     "output_type": "stream",
     "text": [
      "# of months:  86\n"
     ]
    }
   ],
   "source": [
    "# set variables to 0 -- this code is working!\n",
    "months = 0\n",
    "total = 0\n",
    "diff = 0\n",
    "\n",
    "# read the input file\n",
    "with open(csvpath) as csvfile:\n",
    "    csvreader = csv.reader(csvfile, delimiter=',')\n",
    "    \n",
    "    # determine the number of rows to read in the input file\n",
    "    num_rows = len(list(csvreader))\n",
    "    \n",
    "    # reduce rows by 1 since first row is a header\n",
    "    months = num_rows -1\n",
    "    print(\"# of months: \", months)"
   ]
  },
  {
   "cell_type": "code",
   "execution_count": 158,
   "metadata": {},
   "outputs": [
    {
     "name": "stdout",
     "output_type": "stream",
     "text": [
      "The following are the contents of the profit_loss list:\n",
      "[867884, 984655, 322013, -69417, 310503, 522857, 1033096, 604885, -216386, 477532, 893810, -80353, 779806, -335203, 697845, 793163, 485070, 584122, 62729, 668179, 899906, 834719, 132003, 309978, -755566, 1170593, 252788, 1151518, 817256, 570757, 506702, -1022534, 475062, 779976, 144175, 542494, 359333, 321469, 67780, 471435, 565603, 872480, 789480, 999942, -1196225, 268997, -687986, 1150461, 682458, 617856, 824098, 581943, 132864, 448062, 689161, 800701, 1166643, 947333, 578668, 988505, 1139715, 1029471, 687533, -524626, 158620, 87795, 423389, 840723, 568529, 332067, 989499, 778237, 650000, -1100387, -174946, 757143, 445709, 712961, -1163797, 569899, 768450, 102685, 795914, 60988, 138230, 671099]\n",
      "\n",
      "Total amount =  38382578\n",
      "\n"
     ]
    }
   ],
   "source": [
    "# set variables to 0 -- -- this code is working!\n",
    "total = 0\n",
    "\n",
    "with open(csvpath, newline='', encoding='utf-8') as inputfile:\n",
    "    csvreader=csv.reader(inputfile, delimiter=',')\n",
    "        \n",
    "    next(inputfile)   # skip header row\n",
    "\n",
    "    #List to store data\n",
    "    profit_loss=[]\n",
    "    \n",
    "    for row in csvreader:\n",
    "            pf=int(row[1])\n",
    "                \n",
    "            # add profit/loss amount to the list\n",
    "            profit_loss.append(pf)\n",
    "            \n",
    "            # track total amount\n",
    "            total = total + pf\n",
    "             \n",
    "    # TEMP code - to show if data got stored \n",
    "    print(\"The following are the contents of the profit_loss list:\")\n",
    "    print(profit_loss)\n",
    "    print()\n",
    "    print(\"Total amount = \", total)     # Note:  expected result is 38,382,578\n",
    "    print()\n",
    "    "
   ]
  },
  {
   "cell_type": "code",
   "execution_count": 183,
   "metadata": {},
   "outputs": [
    {
     "name": "stdout",
     "output_type": "stream",
     "text": [
      "The following are the contents of the change list:\n",
      "[0, 116771, -662642, -391430, 379920, 212354, 510239, -428211, -821271, 693918, 416278, -974163, 860159, -1115009, 1033048, 95318, -308093, 99052, -521393, 605450, 231727, -65187, -702716, 177975, -1065544, 1926159, -917805, 898730, -334262, -246499, -64055, -1529236, 1497596, 304914, -635801, 398319, -183161, -37864, -253689, 403655, 94168, 306877, -83000, 210462, -2196167, 1465222, -956983, 1838447, -468003, -64602, 206242, -242155, -449079, 315198, 241099, 111540, 365942, -219310, -368665, 409837, 151210, -110244, -341938, -1212159, 683246, -70825, 335594, 417334, -272194, -236462, 657432, -211262, -128237, -1750387, 925441, 932089, -311434, 267252, -1876758, 1733696, 198551, -665765, 693229, -734926, 77242, 532869]\n"
     ]
    }
   ],
   "source": [
    "# use the profit_loss list to create a change (aka amount difference) list -- this code is working!\n",
    "# set variables to 0\n",
    "count = 1\n",
    "diff = 0\n",
    "  \n",
    "#List to store change in amount data\n",
    "change=[]\n",
    "\n",
    "# temp code for testing / debugging only\n",
    "#print(count)\n",
    "#print(diff)\n",
    "#print(months)\n",
    "change.append(0)\n",
    "\n",
    "while count != months:\n",
    "    # calculate the difference and store in change list\n",
    "    diff = profit_loss[count] - profit_loss[count-1]\n",
    "            \n",
    "    # add profit/loss amount to the list\n",
    "    change.append(diff)\n",
    "  \n",
    "    count = count + 1\n",
    "    \n",
    "# TEMP code - to show if data got stored in change list\n",
    "print(\"The following are the contents of the change list:\")\n",
    "print(change)    "
   ]
  },
  {
   "cell_type": "code",
   "execution_count": 23,
   "metadata": {},
   "outputs": [
    {
     "name": "stdout",
     "output_type": "stream",
     "text": [
      "Date,Profit/Losses\n",
      "Jan-2010,867884\n",
      "Feb-2010,984655\n",
      "Mar-2010,322013\n",
      "Apr-2010,-69417\n",
      "May-2010,310503\n",
      "Jun-2010,522857\n",
      "Jul-2010,1033096\n",
      "Aug-2010,604885\n",
      "Sep-2010,-216386\n",
      "Oct-2010,477532\n",
      "Nov-2010,893810\n",
      "Dec-2010,-80353\n",
      "Jan-2011,779806\n",
      "Feb-2011,-335203\n",
      "Mar-2011,697845\n",
      "Apr-2011,793163\n",
      "May-2011,485070\n",
      "Jun-2011,584122\n",
      "Jul-2011,62729\n",
      "Aug-2011,668179\n",
      "Sep-2011,899906\n",
      "Oct-2011,834719\n",
      "Nov-2011,132003\n",
      "Dec-2011,309978\n",
      "Jan-2012,-755566\n",
      "Feb-2012,1170593\n",
      "Mar-2012,252788\n",
      "Apr-2012,1151518\n",
      "May-2012,817256\n",
      "Jun-2012,570757\n",
      "Jul-2012,506702\n",
      "Aug-2012,-1022534\n",
      "Sep-2012,475062\n",
      "Oct-2012,779976\n",
      "Nov-2012,144175\n",
      "Dec-2012,542494\n",
      "Jan-2013,359333\n",
      "Feb-2013,321469\n",
      "Mar-2013,67780\n",
      "Apr-2013,471435\n",
      "May-2013,565603\n",
      "Jun-2013,872480\n",
      "Jul-2013,789480\n",
      "Aug-2013,999942\n",
      "Sep-2013,-1196225\n",
      "Oct-2013,268997\n",
      "Nov-2013,-687986\n",
      "Dec-2013,1150461\n",
      "Jan-2014,682458\n",
      "Feb-2014,617856\n",
      "Mar-2014,824098\n",
      "Apr-2014,581943\n",
      "May-2014,132864\n",
      "Jun-2014,448062\n",
      "Jul-2014,689161\n",
      "Aug-2014,800701\n",
      "Sep-2014,1166643\n",
      "Oct-2014,947333\n",
      "Nov-2014,578668\n",
      "Dec-2014,988505\n",
      "Jan-2015,1139715\n",
      "Feb-2015,1029471\n",
      "Mar-2015,687533\n",
      "Apr-2015,-524626\n",
      "May-2015,158620\n",
      "Jun-2015,87795\n",
      "Jul-2015,423389\n",
      "Aug-2015,840723\n",
      "Sep-2015,568529\n",
      "Oct-2015,332067\n",
      "Nov-2015,989499\n",
      "Dec-2015,778237\n",
      "Jan-2016,650000\n",
      "Feb-2016,-1100387\n",
      "Mar-2016,-174946\n",
      "Apr-2016,757143\n",
      "May-2016,445709\n",
      "Jun-2016,712961\n",
      "Jul-2016,-1163797\n",
      "Aug-2016,569899\n",
      "Sep-2016,768450\n",
      "Oct-2016,102685\n",
      "Nov-2016,795914\n",
      "Dec-2016,60988\n",
      "Jan-2017,138230\n",
      "Feb-2017,671099\n",
      "\n",
      "<class 'str'>\n"
     ]
    }
   ],
   "source": [
    "# REMOVE THIS CODE AFTER TESTING\n",
    "# read the input file\n",
    "with open(csvpath, 'r') as inputfile:\n",
    "    lines=inputfile.read()\n",
    "    \n",
    "    # for testing purposes to check if file is being read successfully & correctly\n",
    "    print(lines)\n",
    "    print(type(lines))"
   ]
  },
  {
   "cell_type": "code",
   "execution_count": null,
   "metadata": {},
   "outputs": [],
   "source": []
  },
  {
   "cell_type": "code",
   "execution_count": 17,
   "metadata": {},
   "outputs": [
    {
     "name": "stdout",
     "output_type": "stream",
     "text": [
      "['Date', 'Profit/Losses']\n",
      "<class 'list'>\n",
      "867884\n",
      "984655\n",
      "322013\n",
      "-69417\n",
      "310503\n",
      "522857\n",
      "1033096\n",
      "604885\n",
      "-216386\n",
      "477532\n",
      "893810\n",
      "-80353\n",
      "779806\n",
      "-335203\n",
      "697845\n",
      "793163\n",
      "485070\n",
      "584122\n",
      "62729\n",
      "668179\n",
      "899906\n",
      "834719\n",
      "132003\n",
      "309978\n",
      "-755566\n",
      "1170593\n",
      "252788\n",
      "1151518\n",
      "817256\n",
      "570757\n",
      "506702\n",
      "-1022534\n",
      "475062\n",
      "779976\n",
      "144175\n",
      "542494\n",
      "359333\n",
      "321469\n",
      "67780\n",
      "471435\n",
      "565603\n",
      "872480\n",
      "789480\n",
      "999942\n",
      "-1196225\n",
      "268997\n",
      "-687986\n",
      "1150461\n",
      "682458\n",
      "617856\n",
      "824098\n",
      "581943\n",
      "132864\n",
      "448062\n",
      "689161\n",
      "800701\n",
      "1166643\n",
      "947333\n",
      "578668\n",
      "988505\n",
      "1139715\n",
      "1029471\n",
      "687533\n",
      "-524626\n",
      "158620\n",
      "87795\n",
      "423389\n",
      "840723\n",
      "568529\n",
      "332067\n",
      "989499\n",
      "778237\n",
      "650000\n",
      "-1100387\n",
      "-174946\n",
      "757143\n",
      "445709\n",
      "712961\n",
      "-1163797\n",
      "569899\n",
      "768450\n",
      "102685\n",
      "795914\n",
      "60988\n",
      "138230\n",
      "671099\n"
     ]
    }
   ],
   "source": [
    "# read the input file and loop through the rows, create variables & calculate the following:\n",
    "# 1)  Total months\n",
    "# 2)  Total amount\n",
    "# 3)  Average change\n",
    "# 4)  Greatest Increase in Profits\n",
    "# 5)  Greatest Decrease in Profits\n",
    "    \n",
    "# read the input file and check if there is a header row\n",
    "with open(csvpath) as csvfile:\n",
    "    csvreader = csv.reader(csvfile, delimiter=',')\n",
    "    \n",
    "    # TEMP -- for testing purposes to check if file is being read correctly\n",
    "    # print 1st row of file assuming it's a header row\n",
    "    csv_header=next(csvreader)\n",
    "    print(csv_header)\n",
    "    \n",
    "    # print the data type\n",
    "    print(type(csv_header))\n",
    "    \n",
    "    # TEMP -- for testing purposes to display data read \n",
    "    for row in csvreader:\n",
    "    # print a specific column value -- remember first item is indexed '0'\n",
    "        print(row[1])"
   ]
  },
  {
   "cell_type": "code",
   "execution_count": 28,
   "metadata": {},
   "outputs": [
    {
     "data": {
      "text/plain": [
       "'Resources\\\\budget_data_rev.csv'"
      ]
     },
     "execution_count": 28,
     "metadata": {},
     "output_type": "execute_result"
    }
   ],
   "source": [
    "# create revised output file <budget_data_rev.csv> to store data with difference and \n",
    "# store the file in the <Resources> folder\n",
    "import os\n",
    "import csv \n",
    "\n",
    "output_file=os.path.join('Resources','budget_data_rev.csv')\n",
    "\n",
    "with open(output_file, 'w', newline='') as datafile:\n",
    "    writer= csv.writer(datafile)\n",
    "    \n",
    "    writer.writerow([\"Date\", \"Profit/Losses\", \"Differences\"])\n",
    "    \n",
    "#    writer.writerows(datafile)\n",
    "\n",
    "# display output file to confirm it got created in the folder\n",
    "output_file"
   ]
  },
  {
   "cell_type": "code",
   "execution_count": null,
   "metadata": {},
   "outputs": [],
   "source": [
    "# calculate the difference and store in revised file\n",
    "csvpath=os.path.join('Resources','budget_data_rev.csv')\n",
    "with open()\n",
    "\n",
    "# calculate the total\n",
    "\n",
    "# calculate the average and store in revised file\n",
    "def average(numbers):\n",
    "    length=(len(numbers))\n",
    "    total=0.0\n",
    "    \n",
    "    for number in numbers:\n",
    "        total += number  # same as this: total = total + number\n",
    "    return total/length    \n",
    "        \n",
    "\n",
    "# percent=round(int[location of variable])/int(row[y]),2)\n"
   ]
  },
  {
   "cell_type": "code",
   "execution_count": null,
   "metadata": {},
   "outputs": [],
   "source": [
    "# create output file <analysis_PyBank.txt> to store analysis data and \n",
    "# store the file in the <analysis> folder\n",
    "# import os\n",
    "output_path=os.path.join('analysis','analysis_PyBank.txt')"
   ]
  },
  {
   "cell_type": "code",
   "execution_count": 19,
   "metadata": {},
   "outputs": [],
   "source": [
    "# open the output file and write the analysis data results\n",
    "# TEMP -- this is to test writing to a text file\n",
    "with open(output_path, 'w', newline='') as txtfile:\n",
    "    header1 = 'PyBank Financial Analysis \\n'\n",
    "    header2 = '--------------------------------------- \\n'\n",
    "    line1 = 'Total Months: \\n'\n",
    "    line2 = 'Total Amount: \\n'\n",
    "    line3 = 'Average Change: \\n'\n",
    "    line4 = 'Greatest Increase in Profits: \\n'\n",
    "    line5 = 'Greatest Decrese in Profits: \\n'\n",
    "    txtfile.write(header1)\n",
    "    txtfile.write(header2)\n",
    "    txtfile.write(line1)\n",
    "    txtfile.write(line2)\n",
    "    txtfile.write(line3)\n",
    "    txtfile.write(line4)\n",
    "    txtfile.write(line5)"
   ]
  }
 ],
 "metadata": {
  "kernelspec": {
   "display_name": "Python 3",
   "language": "python",
   "name": "python3"
  },
  "language_info": {
   "codemirror_mode": {
    "name": "ipython",
    "version": 3
   },
   "file_extension": ".py",
   "mimetype": "text/x-python",
   "name": "python",
   "nbconvert_exporter": "python",
   "pygments_lexer": "ipython3",
   "version": "3.8.5"
  }
 },
 "nbformat": 4,
 "nbformat_minor": 4
}
