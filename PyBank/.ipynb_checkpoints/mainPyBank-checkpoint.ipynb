{
 "cells": [
  {
   "cell_type": "code",
   "execution_count": 1,
   "metadata": {},
   "outputs": [],
   "source": [
    "# main -- for python-challenge PyBank\n",
    "import os\n",
    "import csv"
   ]
  },
  {
   "cell_type": "code",
   "execution_count": 2,
   "metadata": {},
   "outputs": [
    {
     "data": {
      "text/plain": [
       "'Resources\\\\budget_data.csv'"
      ]
     },
     "execution_count": 2,
     "metadata": {},
     "output_type": "execute_result"
    }
   ],
   "source": [
    "# setup path for input file location\n",
    "csvpath=os.path.join('Resources','budget_data.csv')\n",
    "csvpath"
   ]
  },
  {
   "cell_type": "code",
   "execution_count": 3,
   "metadata": {},
   "outputs": [
    {
     "name": "stdout",
     "output_type": "stream",
     "text": [
      "# of months:  86\n"
     ]
    }
   ],
   "source": [
    "# set variables to 0 \n",
    "months = 0\n",
    "total = 0\n",
    "diff = 0\n",
    "\n",
    "# read the input file\n",
    "with open(csvpath) as csvfile:\n",
    "    csvreader = csv.reader(csvfile, delimiter=',')\n",
    "    \n",
    "    # determine the number of rows to read in the input file\n",
    "    num_rows = len(list(csvreader))\n",
    "    \n",
    "    # reduce rows by 1 since first row is a header\n",
    "    months = num_rows -1\n",
    "    print(\"# of months: \", months)"
   ]
  },
  {
   "cell_type": "code",
   "execution_count": 5,
   "metadata": {},
   "outputs": [],
   "source": [
    "# set variables to 0 -- -- this code is working!\n",
    "total = 0\n",
    "\n",
    "with open(csvpath, newline='', encoding='utf-8') as inputfile:\n",
    "    csvreader=csv.reader(inputfile, delimiter=',')\n",
    "        \n",
    "    next(inputfile)   # skip header row\n",
    "\n",
    "    #Lists to store data\n",
    "    date_lst=[]\n",
    "    profitloss_lst=[]\n",
    "    \n",
    "    for row in csvreader:\n",
    "            # add date to the list\n",
    "            date_lst.append(row[0])                \n",
    "            \n",
    "            # convert string amount to integer\n",
    "            pf=int(row[1])\n",
    "            \n",
    "            # add integer amount to the profit/loss list\n",
    "            profitloss_lst.append(pf)\n",
    "            \n",
    "            # track total amount\n",
    "            total = total + pf\n",
    "             \n",
    "    # TEMP code - fore testing only to show if data got stored \n",
    "    #print(\"The following are the contents of the date list:\")\n",
    "    #print(date_lst)\n",
    "    #print()\n",
    "    #print(\"The following are the contents of the profit_loss list:\")\n",
    "    #print(profitloss_lst)\n",
    "    #print()\n",
    "    #print(\"Total amount = \", total)     # Note:  expected result is 38,382,578\n",
    "    #print()\n",
    "    "
   ]
  },
  {
   "cell_type": "code",
   "execution_count": 6,
   "metadata": {},
   "outputs": [],
   "source": [
    "# use the profit_loss list to create a change / difference list \n",
    "# set variables \n",
    "count = 1\n",
    "diff = 0\n",
    "total_diff = 0\n",
    "  \n",
    "#List to store change in amount data\n",
    "change_lst=[]\n",
    "\n",
    "# temp code for testing / debugging only\n",
    "#print(count)\n",
    "#print(diff)\n",
    "#print(months)\n",
    "change_lst.append(0)\n",
    "\n",
    "while count != months:\n",
    "    # calculate the difference and store in change list\n",
    "    diff = profitloss_lst[count] - profitloss_lst[count-1]\n",
    "            \n",
    "    # add change amount to the list\n",
    "    change_lst.append(diff)\n",
    "    \n",
    "    # track total change amount\n",
    "    total_diff = total_diff + diff\n",
    "  \n",
    "    count = count + 1\n",
    "\n",
    "# TEMP code - to show if data got stored in change list\n",
    "#print(\"The following are the contents of the change list:\")\n",
    "#print(change_lst)\n",
    "#print()\n",
    "#print(type(change_lst))"
   ]
  },
  {
   "cell_type": "code",
   "execution_count": 9,
   "metadata": {},
   "outputs": [
    {
     "name": "stdout",
     "output_type": "stream",
     "text": [
      "Total (expected result: $38,382,578) =  $38,382,578.00\n",
      "\n",
      "Average change using total / # of items (expected result: $-2,288.20) =  $-2,288.20\n",
      "\n",
      "Greatest Increase (expected result: $1,926,159):  $1,926,159.00\n",
      "\n",
      "Greatest Decrease (expected result: $-2,196,167):  $-2,196,167.00\n"
     ]
    }
   ],
   "source": [
    "# convert to dollar currency\n",
    "total_dc = \"${:,.2f}\".format(total)\n",
    "print(\"Total (expected result: $38,382,578) = \", total_dc)\n",
    "print()\n",
    "\n",
    "# average using total / # of items\n",
    "avg = round(sum(change_lst) / len(change_lst),2)\n",
    "# convert to dollar currency\n",
    "avgdc = \"${:,.2f}\".format(avg1)\n",
    "\n",
    "print(\"Average change using total / # of items (expected result: $-2,288.20) = \", avgdc)\n",
    "print()\n",
    "\n",
    "greatest_inc = max(change_lst)\n",
    "# convert to dollar currency\n",
    "greatest_incdc = \"${:,.2f}\".format(greatest_inc)\n",
    "print(\"Greatest Increase (expected result: $1,926,159): \", greatest_incdc)\n",
    "print()\n",
    "greatest_dec = min(change_lst)\n",
    "# convert to dollar currency\n",
    "greatest_decdc = \"${:,.2f}\".format(greatest_dec)\n",
    "print(\"Greatest Decrease (expected result: $-2,196,167): \", greatest_decdc)"
   ]
  },
  {
   "cell_type": "code",
   "execution_count": 20,
   "metadata": {},
   "outputs": [
    {
     "name": "stdout",
     "output_type": "stream",
     "text": [
      "Greatest Increase (expected result: $1,926,159):  1926159\n",
      "Greatest Increase row is:  25\n",
      "Greatest Decrease (expected result: $1,926,159):  -2196167\n",
      "Greatest Decrease row is:  44\n"
     ]
    }
   ],
   "source": [
    "# search the month that matches the greatest inc & dec amounts\n",
    "\n",
    "# setup path for input file location\n",
    "csvpath=os.path.join('Resources','budget_data.csv')\n",
    "csvpath\n",
    "\n",
    "#gr8inc=str(greatest_inc)\n",
    "#gr8dec=str(greatest_dec)\n",
    "\n",
    "# i is a row counter\n",
    "i=2\n",
    "\n",
    "while i != len(change_lst):\n",
    "    if greatest_inc == change_lst[i]:\n",
    "        gr8inc_monthrow = i\n",
    "        #temp print the change_lst amount\n",
    "        print(\"Greatest Increase (expected result: $1,926,159): \", change_lst[i])\n",
    "        print(\"Greatest Increase row is: \", gr8inc_monthrow)  \n",
    "    elif greatest_dec == change_lst[i]:\n",
    "        gr8dec_monthrow = i\n",
    "        #temp print the change_lst amount\n",
    "        print(\"Greatest Decrease (expected result: $1,926,159): \", change_lst[i])\n",
    "        print(\"Greatest Decrease row is: \", gr8dec_monthrow)\n",
    "    i = i + 1\n",
    "\n",
    "# index for months    \n",
    "x = gr8inc_monthrow\n",
    "y = gr8dec_monthrow"
   ]
  },
  {
   "cell_type": "code",
   "execution_count": 21,
   "metadata": {},
   "outputs": [
    {
     "name": "stdout",
     "output_type": "stream",
     "text": [
      "Total months:  86\n",
      "\n",
      "Total:  $38,382,578.00\n",
      "\n",
      "Average change:  $-2,315.12\n",
      "\n",
      "Greatest Increase:  Feb-2012   $1,926,159.00\n",
      "\n",
      "Greatest Decrease:  Sep-2013   $-2,196,167.00\n"
     ]
    }
   ],
   "source": [
    "# display the values\n",
    "print(\"Total months: \", months)\n",
    "print()\n",
    "\n",
    "print(\"Total: \", total_dc)\n",
    "print()\n",
    "\n",
    "# convert to dollar currency\n",
    "# total_diffdc = \"${:,.2f}\".format(total_diff)\n",
    "# print(\"Total change: \", total_diffdc)\n",
    "# print()\n",
    "\n",
    "# average using total / # of items\n",
    "num_diff = len(change_lst) - 1\n",
    "avg = round((sum(change_lst) / num_diff) ,2)\n",
    "# convert to dollar currency\n",
    "avgdc = \"${:,.2f}\".format(avg)\n",
    "\n",
    "print(\"Average change: \", avgdc)\n",
    "print()\n",
    "\n",
    "greatest_inc = max(change_lst)\n",
    "# convert to dollar currency\n",
    "greatest_incdc = \"${:,.2f}\".format(greatest_inc)\n",
    "print(\"Greatest Increase: \", date_lst[x], \" \", greatest_incdc)\n",
    "print()\n",
    "greatest_dec = min(change_lst)\n",
    "# convert to dollar currency\n",
    "greatest_decdc = \"${:,.2f}\".format(greatest_dec)\n",
    "print(\"Greatest Decrease: \", date_lst[y], \" \", greatest_decdc)"
   ]
  },
  {
   "cell_type": "code",
   "execution_count": 22,
   "metadata": {},
   "outputs": [],
   "source": [
    "# these are the final variables for the analysis doc\n",
    "# months\n",
    "# total_dc\n",
    "# avg1dc\n",
    "# avg2dc\n",
    "# greatest_inc_month\n",
    "# greatest_incdc\n",
    "# greatest_dec_month\n",
    "# greatest_decdc\n",
    "\n",
    "x = gr8inc_monthrow\n",
    "y = gr8dec_monthrow\n",
    "\n",
    "num_diff = len(change_lst) - 1\n",
    "\n",
    "# convert to dollar currency\n",
    "total_dc = \"${:,.2f}\".format(total)\n",
    "\n",
    "# average using total / # of items\n",
    "avg = round(sum(change_lst) / num_diff ,2)\n",
    "\n",
    "# convert to dollar currency\n",
    "avgdc = \"${:,.2f}\".format(avg)\n",
    "\n",
    "greatest_inc = max(change_lst)\n",
    "\n",
    "# convert to dollar currency\n",
    "greatest_incdc = \"${:,.2f}\".format(greatest_inc)\n",
    "\n",
    "greatest_dec = min(change_lst)\n",
    "\n",
    "# convert to dollar currency\n",
    "greatest_decdc = \"${:,.2f}\".format(greatest_dec)\n",
    "\n",
    "greatest_inc_month = date_lst[x]\n",
    "greatest_dec_month = date_lst[y]"
   ]
  },
  {
   "cell_type": "code",
   "execution_count": 23,
   "metadata": {},
   "outputs": [],
   "source": [
    "# create output file <analysis_PyBank.txt> to store analysis data and \n",
    "# store the file in the <analysis> folder\n",
    "# import os\n",
    "output_path=os.path.join('analysis','analysis_PyBank.txt')\n",
    "\n",
    "# open the output file and write the analysis data results\n",
    "with open(output_path, 'w', newline='') as txtfile:\n",
    "    header1 = 'PyBank Financial Analysis \\n'\n",
    "    header2 = '--------------------------------------------------------- \\n'\n",
    "    line1 = 'Total Months: '\n",
    "    line_fd = '\\n'\n",
    "    line2 = 'Total Amount: ' \n",
    "    line3 = 'Average Change: '\n",
    "    line4 = 'Greatest Increase in Profits: '\n",
    "    line5 = 'Greatest Decrese in Profits:  '\n",
    "    txtfile.write(header1)\n",
    "    txtfile.write(header2)\n",
    "    txtfile.write(line1 + str(months))\n",
    "    txtfile.write(line_fd)\n",
    "    txtfile.write(line2 + str(total_dc))\n",
    "    txtfile.write(line_fd)\n",
    "    txtfile.write(line3 + str(avgdc))\n",
    "    txtfile.write(line_fd)\n",
    "    txtfile.write(line4 + greatest_inc_month + \"  \" + str(greatest_incdc))\n",
    "    txtfile.write(line_fd)\n",
    "    txtfile.write(line5 + greatest_dec_month + \"  \" + str(greatest_decdc))"
   ]
  }
 ],
 "metadata": {
  "kernelspec": {
   "display_name": "Python 3",
   "language": "python",
   "name": "python3"
  },
  "language_info": {
   "codemirror_mode": {
    "name": "ipython",
    "version": 3
   },
   "file_extension": ".py",
   "mimetype": "text/x-python",
   "name": "python",
   "nbconvert_exporter": "python",
   "pygments_lexer": "ipython3",
   "version": "3.8.5"
  }
 },
 "nbformat": 4,
 "nbformat_minor": 4
}
