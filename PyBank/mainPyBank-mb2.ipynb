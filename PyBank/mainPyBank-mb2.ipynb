{
 "cells": [
  {
   "cell_type": "code",
   "execution_count": 64,
   "metadata": {},
   "outputs": [],
   "source": [
    "# main -- for python-challenge PyBank\n",
    "import os\n",
    "import csv"
   ]
  },
  {
   "cell_type": "code",
   "execution_count": 65,
   "metadata": {},
   "outputs": [
    {
     "data": {
      "text/plain": [
       "'Resources\\\\budget_data.csv'"
      ]
     },
     "execution_count": 65,
     "metadata": {},
     "output_type": "execute_result"
    }
   ],
   "source": [
    "# setup path for input file location\n",
    "csvpath=os.path.join('Resources','budget_data.csv')\n",
    "csvpath"
   ]
  },
  {
   "cell_type": "code",
   "execution_count": 67,
   "metadata": {},
   "outputs": [
    {
     "name": "stdout",
     "output_type": "stream",
     "text": [
      "['Date', 'Profit/Losses']\n",
      "<class 'list'>\n",
      "The following are the contents of the ProfitLoss list:\n",
      "[867884, 984655, 322013, -69417, 310503, 522857, 1033096, 604885, -216386, 477532, 893810, -80353, 779806, -335203, 697845, 793163, 485070, 584122, 62729, 668179, 899906, 834719, 132003, 309978, -755566, 1170593, 252788, 1151518, 817256, 570757, 506702, -1022534, 475062, 779976, 144175, 542494, 359333, 321469, 67780, 471435, 565603, 872480, 789480, 999942, -1196225, 268997, -687986, 1150461, 682458, 617856, 824098, 581943, 132864, 448062, 689161, 800701, 1166643, 947333, 578668, 988505, 1139715, 1029471, 687533, -524626, 158620, 87795, 423389, 840723, 568529, 332067, 989499, 778237, 650000, -1100387, -174946, 757143, 445709, 712961, -1163797, 569899, 768450, 102685, 795914, 60988, 138230, 671099]\n"
     ]
    }
   ],
   "source": [
    "# read the input file and loop through the rows, and convert the string amount into an integer and store in the list: ProfitLoss  \n",
    "\n",
    "# check if there is a header row\n",
    "with open(csvpath) as csvfile:\n",
    "    csvreader = csv.reader(csvfile, delimiter=',')\n",
    "    \n",
    "    # TEMP -- for testing purposes to check if file is being read correctly\n",
    "    # print 1st row of file assuming it's a header row\n",
    "    csv_header=next(csvreader)\n",
    "    print(csv_header)\n",
    "    \n",
    "    # print the data type\n",
    "    print(type(csv_header))\n",
    "    \n",
    "    # TEMP -- for testing purposes to display data read \n",
    "    #for row in csvreader:\n",
    "    # print a specific column value -- remember first item is indexed '0'\n",
    "    #    print(row[1])\n",
    "        \n",
    "        \n",
    "#List to store data\n",
    "    profit_loss=[]\n",
    "\n",
    "    for row in csvreader:\n",
    "            pf=int(row[1])\n",
    "            #profit_loss.append(row[1])\n",
    "            profit_loss.append(pf)\n",
    "    \n",
    "\n",
    "    print(\"The following are the contents of the ProfitLoss list:\")\n",
    "    print(profit_loss)\n"
   ]
  },
  {
   "cell_type": "code",
   "execution_count": 56,
   "metadata": {},
   "outputs": [
    {
     "ename": "ValueError",
     "evalue": "invalid literal for int() with base 10: 'Profit/Losses'",
     "output_type": "error",
     "traceback": [
      "\u001b[1;31m---------------------------------------------------------------------------\u001b[0m",
      "\u001b[1;31mValueError\u001b[0m                                Traceback (most recent call last)",
      "\u001b[1;32m<ipython-input-56-b425fd7acb97>\u001b[0m in \u001b[0;36m<module>\u001b[1;34m\u001b[0m\n\u001b[0;32m     12\u001b[0m \u001b[1;33m\u001b[0m\u001b[0m\n\u001b[0;32m     13\u001b[0m     \u001b[1;32mfor\u001b[0m \u001b[0mrow\u001b[0m \u001b[1;32min\u001b[0m \u001b[0mcsvreader\u001b[0m\u001b[1;33m:\u001b[0m\u001b[1;33m\u001b[0m\u001b[1;33m\u001b[0m\u001b[0m\n\u001b[1;32m---> 14\u001b[1;33m         \u001b[0mpf\u001b[0m\u001b[1;33m=\u001b[0m\u001b[0mint\u001b[0m\u001b[1;33m(\u001b[0m\u001b[0mrow\u001b[0m\u001b[1;33m[\u001b[0m\u001b[1;36m1\u001b[0m\u001b[1;33m]\u001b[0m\u001b[1;33m)\u001b[0m\u001b[1;33m\u001b[0m\u001b[1;33m\u001b[0m\u001b[0m\n\u001b[0m\u001b[0;32m     15\u001b[0m         \u001b[0mprofit_loss\u001b[0m\u001b[1;33m.\u001b[0m\u001b[0mappend\u001b[0m\u001b[1;33m(\u001b[0m\u001b[0mpf\u001b[0m\u001b[1;33m)\u001b[0m\u001b[1;33m\u001b[0m\u001b[1;33m\u001b[0m\u001b[0m\n\u001b[0;32m     16\u001b[0m \u001b[1;33m\u001b[0m\u001b[0m\n",
      "\u001b[1;31mValueError\u001b[0m: invalid literal for int() with base 10: 'Profit/Losses'"
     ]
    }
   ],
   "source": [
    "import os\n",
    "import csv\n",
    "\n",
    "csvpath=os.path.join('Resources','budget_data.csv')\n",
    "csvpath\n",
    "\n",
    "with open(csvpath) as csvfile:\n",
    "    csvreader = csv.reader(csvfile, delimiter=',')\n",
    "    \n",
    "    #List to store data\n",
    "    profit_loss=[]\n",
    "\n",
    "    for row in csvreader:\n",
    "        pf=int(row[1])\n",
    "        profit_loss.append(pf)\n",
    "    \n",
    "\n",
    "print(\"The following are the contents of the ProfitLoss list:\")\n",
    "print(profit_loss)"
   ]
  },
  {
   "cell_type": "code",
   "execution_count": null,
   "metadata": {},
   "outputs": [],
   "source": [
    "# read the input file and loop through the rows, create variables & calculate the following:\n",
    "# 1)  Total months\n",
    "# 2)  Total amount\n",
    "# 3)  Average change\n",
    "# 4)  Greatest Increase in Profits\n",
    "# 5)  Greatest Decrease in Profits\n"
   ]
  },
  {
   "cell_type": "code",
   "execution_count": 28,
   "metadata": {},
   "outputs": [
    {
     "data": {
      "text/plain": [
       "'Resources\\\\budget_data_rev.csv'"
      ]
     },
     "execution_count": 28,
     "metadata": {},
     "output_type": "execute_result"
    }
   ],
   "source": [
    "# create revised output file <budget_data_rev.csv> to store data with difference and \n",
    "# store the file in the <Resources> folder\n",
    "import os\n",
    "import csv \n",
    "\n",
    "output_file=os.path.join('Resources','budget_data_rev.csv')\n",
    "\n",
    "with open(output_file, 'w', newline='') as datafile:\n",
    "    writer= csv.writer(datafile)\n",
    "    \n",
    "    writer.writerow([\"Date\", \"Profit/Losses\", \"Differences\"])\n",
    "    \n",
    "#    writer.writerows(datafile)\n",
    "\n",
    "# display output file to confirm it got created in the folder\n",
    "output_file"
   ]
  },
  {
   "cell_type": "code",
   "execution_count": null,
   "metadata": {},
   "outputs": [],
   "source": [
    "# calculate the difference and store in revised file\n",
    "csvpath=os.path.join('Resources','budget_data_rev.csv')\n",
    "with open()\n",
    "\n",
    "# calculate the total\n",
    "\n",
    "# calculate the average and store in revised file\n",
    "def average(numbers):\n",
    "    length=(len(numbers))\n",
    "    total=0.0\n",
    "    \n",
    "    for number in numbers:\n",
    "        total += number  # same as this: total = total + number\n",
    "    return total/length    \n",
    "        \n",
    "\n",
    "# percent=round(int[location of variable])/int(row[y]),2)\n"
   ]
  },
  {
   "cell_type": "code",
   "execution_count": null,
   "metadata": {},
   "outputs": [],
   "source": [
    "# create output file <analysis_PyBank.txt> to store analysis data and \n",
    "# store the file in the <analysis> folder\n",
    "# import os\n",
    "output_path=os.path.join('analysis','analysis_PyBank.txt')"
   ]
  },
  {
   "cell_type": "code",
   "execution_count": 19,
   "metadata": {},
   "outputs": [],
   "source": [
    "# open the output file and write the analysis data results\n",
    "# TEMP -- this is to test writing to a text file\n",
    "with open(output_path, 'w', newline='') as txtfile:\n",
    "    header1 = 'PyBank Financial Analysis \\n'\n",
    "    header2 = '--------------------------------------- \\n'\n",
    "    line1 = 'Total Months: \\n'\n",
    "    line2 = 'Total Amount: \\n'\n",
    "    line3 = 'Average Change: \\n'\n",
    "    line4 = 'Greatest Increase in Profits: \\n'\n",
    "    line5 = 'Greatest Decrese in Profits: \\n'\n",
    "    txtfile.write(header1)\n",
    "    txtfile.write(header2)\n",
    "    txtfile.write(line1)\n",
    "    txtfile.write(line2)\n",
    "    txtfile.write(line3)\n",
    "    txtfile.write(line4)\n",
    "    txtfile.write(line5)"
   ]
  }
 ],
 "metadata": {
  "kernelspec": {
   "display_name": "Python 3",
   "language": "python",
   "name": "python3"
  },
  "language_info": {
   "codemirror_mode": {
    "name": "ipython",
    "version": 3
   },
   "file_extension": ".py",
   "mimetype": "text/x-python",
   "name": "python",
   "nbconvert_exporter": "python",
   "pygments_lexer": "ipython3",
   "version": "3.8.5"
  }
 },
 "nbformat": 4,
 "nbformat_minor": 4
}
