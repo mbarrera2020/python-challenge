{
 "cells": [
  {
   "cell_type": "code",
   "execution_count": 1,
   "metadata": {},
   "outputs": [],
   "source": [
    "# main -- for python-challenge PyPoll\n",
    "import os\n",
    "import csv\n",
    "import operator   # needed to make sort work"
   ]
  },
  {
   "cell_type": "code",
   "execution_count": 2,
   "metadata": {},
   "outputs": [
    {
     "data": {
      "text/plain": [
       "'Resources\\\\election_data2test.csv'"
      ]
     },
     "execution_count": 2,
     "metadata": {},
     "output_type": "execute_result"
    }
   ],
   "source": [
    "# setup path for input file location\n",
    "# REMEMBER: remove '1test' from filename -- test data has < 100 rows including header\n",
    "csvpath=os.path.join('Resources','election_data2test.csv')\n",
    "csvpath"
   ]
  },
  {
   "cell_type": "code",
   "execution_count": 20,
   "metadata": {},
   "outputs": [
    {
     "name": "stdout",
     "output_type": "stream",
     "text": [
      "This is the candidate_unique set:  {'Li', 'Khan', 'Correy', \"O'Tooley\"}\n",
      "# of candidates: 4\n",
      "This is the candidate list:  ['Li', 'Khan', 'Correy', \"O'Tooley\"]\n"
     ]
    }
   ],
   "source": [
    "# open & loop through the rows and get total votes by candidates\n",
    "\n",
    "# create a 'unique' candidate list\n",
    "candidate_unique = set()\n",
    "\n",
    "with open(csvpath) as csvfile:\n",
    "    csvreader = csv.reader(csvfile, delimiter=',')\n",
    "    \n",
    "    # Read the header row first (skip this step if there is row header)\n",
    "    csv_header = next(csvreader)\n",
    "    \n",
    "    # read file\n",
    "    for row in csvreader:\n",
    "        candidate_unique.add(row[2])\n",
    "\n",
    "print (\"This is the candidate_unique set: \", candidate_unique)\n",
    "num_candidates = len(list(candidate_unique))\n",
    "print (\"# of candidates:\", num_candidates)\n",
    "\n",
    "# convert the candidate set to a list so the index can be referenced\n",
    "candidate_lst = []\n",
    "\n",
    "for i in candidate_unique:\n",
    "    candidate_lst.append(i)\n",
    "\n",
    "print (\"This is the candidate list: \", candidate_lst)"
   ]
  },
  {
   "cell_type": "code",
   "execution_count": 72,
   "metadata": {},
   "outputs": [
    {
     "name": "stdout",
     "output_type": "stream",
     "text": [
      "Candidates:  ['Li', 'Khan', 'Correy', \"O'Tooley\"]\n",
      "\n",
      "Votes:  [3, 36, 14, 1]\n",
      "\n",
      "Total Votes =  54\n",
      "\n",
      "Percentages:  ['5.556%', '66.667%', '25.926%', '1.852%']\n"
     ]
    }
   ],
   "source": [
    "# create lists to store candidate votes, percent & initialize with 0\n",
    "votes_lst = [0]*len(candidate_lst)\n",
    "percent_lst = [0]*len(candidate_lst)\n",
    "\n",
    "total_votes = 0\n",
    "\n",
    "i = 0\n",
    "n = num_candidates\n",
    "\n",
    "# open & loop through the rows and get total votes by candidates\n",
    "with open(csvpath) as csvfile:\n",
    "    csvreader = csv.reader(csvfile, delimiter=',')\n",
    "    \n",
    "    # Read the header row first (skip this step if there is row header)\n",
    "    csv_header = next(csvreader)\n",
    "    \n",
    "    for row in csvreader:\n",
    "        # set index for candidate list to 0\n",
    "        y=0  \n",
    "        \n",
    "        # check if candidate on the input file does not match the candidate on the candidate list\n",
    "        # add 1 to the candidate index until there is a match\n",
    "        while (row[2]) != candidate_lst[y]:\n",
    "            y = y+1\n",
    "            \n",
    "        # candidate comparison matched! - add votes of candidate to the votes_lst\n",
    "        votes_lst[y] = votes_lst[y] + 1\n",
    "                           \n",
    "        # add the votes to the grand total votes variable\n",
    "        total_votes = total_votes + 1\n",
    "\n",
    "        # increment to go to next row\n",
    "        i = i + 1\n",
    "                            \n",
    "print (\"Candidates: \", candidate_lst)\n",
    "print ()\n",
    "print (\"Votes: \", votes_lst)\n",
    "print ()\n",
    "print (\"Total Votes = \", total_votes)\n",
    "print ()\n",
    "\n",
    "# calculate percentages & format as percent with 3 decimal places\n",
    "i = 0\n",
    "while i < num_candidates:\n",
    "    percent_lst[i] = (votes_lst[i] / total_votes)\n",
    "    percent_lst[i] = (format (percent_lst[i], \".3%\"))\n",
    "    i = i + 1\n",
    "    \n",
    "print(\"Percentages: \", percent_lst)"
   ]
  },
  {
   "cell_type": "code",
   "execution_count": 58,
   "metadata": {},
   "outputs": [
    {
     "data": {
      "text/plain": [
       "36"
      ]
     },
     "execution_count": 58,
     "metadata": {},
     "output_type": "execute_result"
    }
   ],
   "source": [
    "# determine winner; i.e., candidate with the maximum votes\n",
    "\n",
    "maxvotes = max(votes_lst)\n",
    "maxvotes"
   ]
  },
  {
   "cell_type": "code",
   "execution_count": 59,
   "metadata": {},
   "outputs": [],
   "source": [
    "# sort candidates from highest votes to lowest votes\n",
    "\n"
   ]
  },
  {
   "cell_type": "code",
   "execution_count": 60,
   "metadata": {},
   "outputs": [],
   "source": [
    "# create output file <analysis_PyBank.txt> to store analysis data and \n",
    "# store the file in the <analysis> folder\n",
    "# import os\n",
    "output_path=os.path.join('analysis','analysis_PyPoll.txt')"
   ]
  },
  {
   "cell_type": "code",
   "execution_count": 69,
   "metadata": {},
   "outputs": [],
   "source": [
    "# open the output file and write the analysis data results\n",
    "with open(output_path, 'w', newline='') as txtfile:\n",
    "    header1 = 'Election Results \\n'\n",
    "    header2 = '--------------------------------------- \\n'\n",
    "    line1 = 'Total Votes: '\n",
    "    line_fd = '\\n'\n",
    "    line2 = '--------------------------------------- \\n'\n",
    "    line3 = '<candidate1 variable>:, % variable, votes \\n'\n",
    "    line4 = '<candidate2 variable>:, % variable, votes \\n'\n",
    "    line5 = '<candidate3 variable>:, % variable, votes \\n'\n",
    "    line6 = '--------------------------------------- \\n'\n",
    "    line7 = 'Winner: <candidate winner var> '\n",
    "    line8 = '--------------------------------------- \\n'\n",
    "    txtfile.write(header1)\n",
    "    txtfile.write(header2)\n",
    "    txtfile.write(line1 + str(total_votes))\n",
    "    txtfile.write(line_fd)\n",
    "    txtfile.write(line2)\n",
    "    txtfile.write(line3)\n",
    "    txtfile.write(line4)\n",
    "    txtfile.write(line5)\n",
    "    txtfile.write(line6)\n",
    "    txtfile.write('Winner: ' 'insert name '+ str(maxvotes))\n",
    "    txtfile.write(line_fd)\n",
    "    txtfile.write(line8)\n",
    "    "
   ]
  }
 ],
 "metadata": {
  "kernelspec": {
   "display_name": "Python 3",
   "language": "python",
   "name": "python3"
  },
  "language_info": {
   "codemirror_mode": {
    "name": "ipython",
    "version": 3
   },
   "file_extension": ".py",
   "mimetype": "text/x-python",
   "name": "python",
   "nbconvert_exporter": "python",
   "pygments_lexer": "ipython3",
   "version": "3.8.5"
  }
 },
 "nbformat": 4,
 "nbformat_minor": 4
}
