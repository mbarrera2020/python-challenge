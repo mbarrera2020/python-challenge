{
 "cells": [
  {
   "cell_type": "code",
   "execution_count": 1,
   "metadata": {},
   "outputs": [],
   "source": [
    "# main -- for python-challenge PyPoll\n",
    "import os\n",
    "import csv\n",
    "import operator   # needed to make sort work"
   ]
  },
  {
   "cell_type": "code",
   "execution_count": 2,
   "metadata": {},
   "outputs": [
    {
     "data": {
      "text/plain": [
       "'Resources\\\\election_data.csv'"
      ]
     },
     "execution_count": 2,
     "metadata": {},
     "output_type": "execute_result"
    }
   ],
   "source": [
    "# setup path for input file location\n",
    "csvpath=os.path.join('Resources','election_data.csv')\n",
    "csvpath"
   ]
  },
  {
   "cell_type": "code",
   "execution_count": 3,
   "metadata": {},
   "outputs": [
    {
     "name": "stdout",
     "output_type": "stream",
     "text": [
      "This is the candidate_unique set:  {'Correy', \"O'Tooley\", 'Li', 'Khan'}\n",
      "# of candidates: 4\n",
      "This is the candidate list:  ['Correy', \"O'Tooley\", 'Li', 'Khan']\n"
     ]
    }
   ],
   "source": [
    "# open & loop through the rows and get total votes by candidates\n",
    "\n",
    "# create a 'unique' candidate list\n",
    "candidate_unique = set()\n",
    "\n",
    "with open(csvpath) as csvfile:\n",
    "    csvreader = csv.reader(csvfile, delimiter=',')\n",
    "    \n",
    "    # Read the header row first (skip this step if there is row header)\n",
    "    csv_header = next(csvreader)\n",
    "    \n",
    "    # read file\n",
    "    for row in csvreader:\n",
    "        candidate_unique.add(row[2])\n",
    "\n",
    "print (\"This is the candidate_unique set: \", candidate_unique)\n",
    "num_candidates = len(list(candidate_unique))\n",
    "print (\"# of candidates:\", num_candidates)\n",
    "\n",
    "# convert the candidate set to a list so the index can be referenced\n",
    "candidate_lst = []\n",
    "\n",
    "for i in candidate_unique:\n",
    "    candidate_lst.append(i)\n",
    "\n",
    "print (\"This is the candidate list: \", candidate_lst)"
   ]
  },
  {
   "cell_type": "code",
   "execution_count": 4,
   "metadata": {},
   "outputs": [
    {
     "name": "stdout",
     "output_type": "stream",
     "text": [
      "Candidates:  ['Correy', \"O'Tooley\", 'Li', 'Khan']\n",
      "\n",
      "Votes:  [704200, 105630, 492940, 2218231]\n",
      "\n",
      "Total Votes =  3521001\n",
      "\n",
      "Percentages:  ['20.000%', '3.000%', '14.000%', '63.000%']\n"
     ]
    }
   ],
   "source": [
    "# create lists to store candidate votes, percent & initialize with 0\n",
    "votes_lst = [0]*len(candidate_lst)\n",
    "percent_lst = [0]*len(candidate_lst)\n",
    "\n",
    "total_votes = 0\n",
    "\n",
    "i = 0\n",
    "n = num_candidates\n",
    "\n",
    "# open & loop through the rows and get total votes by candidates\n",
    "with open(csvpath) as csvfile:\n",
    "    csvreader = csv.reader(csvfile, delimiter=',')\n",
    "    \n",
    "    # Read the header row first (skip this step if there is row header)\n",
    "    csv_header = next(csvreader)\n",
    "    \n",
    "    for row in csvreader:\n",
    "        # set index for candidate list to 0\n",
    "        y=0  \n",
    "        \n",
    "        # check if candidate on the input file does not match the candidate on the candidate list\n",
    "        # add 1 to the candidate index until there is a match\n",
    "        while (row[2]) != candidate_lst[y]:\n",
    "            y = y+1\n",
    "            \n",
    "        # candidate comparison matched! - add votes of candidate to the votes_lst\n",
    "        votes_lst[y] = votes_lst[y] + 1\n",
    "                           \n",
    "        # add the votes to the grand total votes variable\n",
    "        total_votes = total_votes + 1\n",
    "\n",
    "        # increment to go to next row\n",
    "        i = i + 1\n",
    "                            \n",
    "print (\"Candidates: \", candidate_lst)\n",
    "print ()\n",
    "print (\"Votes: \", votes_lst)\n",
    "print ()\n",
    "print (\"Total Votes = \", total_votes)\n",
    "print ()\n",
    "\n",
    "\n",
    "# calculate percentages & format as percent with 3 decimal places\n",
    "i = 0\n",
    "while i < num_candidates:\n",
    "    percent_lst[i] = (votes_lst[i] / total_votes)\n",
    "    percent_lst[i] = (format (percent_lst[i], \".3%\"))\n",
    "    i = i + 1\n",
    "    \n",
    "print(\"Percentages: \", percent_lst)"
   ]
  },
  {
   "cell_type": "code",
   "execution_count": 6,
   "metadata": {},
   "outputs": [
    {
     "name": "stdout",
     "output_type": "stream",
     "text": [
      "[('Correy', '20.000%', 704200), (\"O'Tooley\", '3.000%', 105630), ('Li', '14.000%', 492940), ('Khan', '63.000%', 2218231)]\n"
     ]
    }
   ],
   "source": [
    "# create poll data dictionary with candidate, votes, percent\n",
    "#votes_lst = [0]*len(candidate_lst)\n",
    "#percent_lst = [0]*len(candidate_lst)\n",
    "\n",
    "polldata = list(zip(candidate_lst, votes_lst, percent_lst))\n",
    "\n",
    "print (polldata)"
   ]
  },
  {
   "cell_type": "code",
   "execution_count": 7,
   "metadata": {},
   "outputs": [
    {
     "name": "stdout",
     "output_type": "stream",
     "text": [
      "[('Khan', '63.000%', 2218231), (\"O'Tooley\", '3.000%', 105630), ('Correy', '20.000%', 704200), ('Li', '14.000%', 492940)]\n"
     ]
    }
   ],
   "source": [
    "# sort candidates from highest votes to lowest votes using a function\n",
    "# Function to sort the list of tuples by its second item \n",
    "\n",
    "def Sort_Tuple(tup):  \n",
    "      \n",
    "    # getting length of list of tuples \n",
    "    lst = len(tup)  \n",
    "    for i in range(0, lst):  \n",
    "          \n",
    "        for j in range(0, lst-i-1):  \n",
    "            if (tup[j][1] < tup[j + 1][1]):  # \"<\" used to sort highest to lowest\n",
    "                temp = tup[j]  \n",
    "                tup[j]= tup[j + 1]  \n",
    "                tup[j + 1]= temp  \n",
    "    return tup  \n",
    "\n",
    "print(Sort_Tuple(polldata))  "
   ]
  },
  {
   "cell_type": "code",
   "execution_count": 8,
   "metadata": {},
   "outputs": [
    {
     "data": {
      "text/plain": [
       "('Khan', '63.000%', 2218231)"
      ]
     },
     "execution_count": 8,
     "metadata": {},
     "output_type": "execute_result"
    }
   ],
   "source": [
    "# get info for candidate with highest votes \n",
    "winner = Sort_Tuple(polldata)[0]\n",
    "winner"
   ]
  },
  {
   "cell_type": "code",
   "execution_count": 9,
   "metadata": {},
   "outputs": [
    {
     "data": {
      "text/plain": [
       "'Khan'"
      ]
     },
     "execution_count": 9,
     "metadata": {},
     "output_type": "execute_result"
    }
   ],
   "source": [
    "# get name of winner\n",
    "winner_name = winner[0]\n",
    "winner_name"
   ]
  },
  {
   "cell_type": "code",
   "execution_count": 10,
   "metadata": {},
   "outputs": [
    {
     "data": {
      "text/plain": [
       "<function __main__.Sort_Tuple(tup)>"
      ]
     },
     "execution_count": 10,
     "metadata": {},
     "output_type": "execute_result"
    }
   ],
   "source": [
    "Sort_Tuple"
   ]
  },
  {
   "cell_type": "code",
   "execution_count": 11,
   "metadata": {},
   "outputs": [
    {
     "data": {
      "text/plain": [
       "[('Khan', '63.000%', 2218231),\n",
       " (\"O'Tooley\", '3.000%', 105630),\n",
       " ('Correy', '20.000%', 704200),\n",
       " ('Li', '14.000%', 492940)]"
      ]
     },
     "execution_count": 11,
     "metadata": {},
     "output_type": "execute_result"
    }
   ],
   "source": [
    "# for testing reference only\n",
    "sorted_polldata = Sort_Tuple(polldata)\n",
    "sorted_polldata"
   ]
  },
  {
   "cell_type": "code",
   "execution_count": 12,
   "metadata": {},
   "outputs": [
    {
     "name": "stdout",
     "output_type": "stream",
     "text": [
      "Total votes formatted:  3,521,001\n"
     ]
    }
   ],
   "source": [
    "# variables to use for output\n",
    "total_votes_f = \"{:,.0f}\".format(total_votes)\n",
    "print (\"Total votes formatted: \", total_votes_f)\n"
   ]
  },
  {
   "cell_type": "code",
   "execution_count": 13,
   "metadata": {},
   "outputs": [],
   "source": [
    "# create output file <analysis_PyBank.txt> to store analysis data and \n",
    "# store the file in the <analysis> folder\n",
    "# import os\n",
    "output_path=os.path.join('analysis','analysis_PyPoll.txt')"
   ]
  },
  {
   "cell_type": "code",
   "execution_count": 14,
   "metadata": {},
   "outputs": [],
   "source": [
    "# open the output file and write the analysis data results\n",
    "line_fd = '\\n'\n",
    "\n",
    "with open(output_path, 'w', newline='') as txtfile:\n",
    "    txtfile.write('Election Results')\n",
    "    txtfile.write(line_fd)\n",
    "    txtfile.write('---------------------------------------')\n",
    "    txtfile.write(line_fd)\n",
    "    txtfile.write('Total Votes: ' + total_votes_f)\n",
    "    txtfile.write(line_fd)\n",
    "    txtfile.write('---------------------------------------')\n",
    "    txtfile.write(line_fd)\n",
    "    for i in range(0, num_candidates):\n",
    "        txtfile.write(str(Sort_Tuple(polldata)[i])) \n",
    "        txtfile.write(line_fd)\n",
    "    txtfile.write('---------------------------------------')    \n",
    "    txtfile.write(line_fd)\n",
    "    txtfile.write('Winner: ' + winner_name)\n",
    "    txtfile.write(line_fd)\n",
    "    txtfile.write('---------------------------------------')"
   ]
  }
 ],
 "metadata": {
  "kernelspec": {
   "display_name": "Python 3",
   "language": "python",
   "name": "python3"
  },
  "language_info": {
   "codemirror_mode": {
    "name": "ipython",
    "version": 3
   },
   "file_extension": ".py",
   "mimetype": "text/x-python",
   "name": "python",
   "nbconvert_exporter": "python",
   "pygments_lexer": "ipython3",
   "version": "3.8.5"
  }
 },
 "nbformat": 4,
 "nbformat_minor": 4
}
