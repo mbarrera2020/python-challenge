{
 "cells": [
  {
   "cell_type": "code",
   "execution_count": 28,
   "metadata": {},
   "outputs": [],
   "source": [
    "# -- latest working copy as of 20210107 -- 1:10 PM\n",
    "# main -- for python-challenge PyPoll\n",
    "import os\n",
    "import csv\n",
    "import operator   # needed to make sort work"
   ]
  },
  {
   "cell_type": "code",
   "execution_count": 29,
   "metadata": {},
   "outputs": [
    {
     "data": {
      "text/plain": [
       "'Resources\\\\election_data2test.csv'"
      ]
     },
     "execution_count": 29,
     "metadata": {},
     "output_type": "execute_result"
    }
   ],
   "source": [
    "# setup path for input file location\n",
    "# REMEMBER: remove '1test' from filename -- test data has < 100 rows including header\n",
    "csvpath=os.path.join('Resources','election_data2test.csv')\n",
    "csvpath"
   ]
  },
  {
   "cell_type": "code",
   "execution_count": 30,
   "metadata": {},
   "outputs": [
    {
     "name": "stdout",
     "output_type": "stream",
     "text": [
      "{'Li', 'Khan', 'Correy', \"O'Tooley\"}\n",
      "# of candidates: 4\n"
     ]
    }
   ],
   "source": [
    "# open & loop through the rows and get total votes by candidates\n",
    "\n",
    "# create a 'unique' candidate list\n",
    "candidate_unique = set()\n",
    "\n",
    "with open(csvpath) as csvfile:\n",
    "    csvreader = csv.reader(csvfile, delimiter=',')\n",
    "    \n",
    "    # Read the header row first (skip this step if there is row header)\n",
    "    csv_header = next(csvreader)\n",
    "    #print(f\"CSV Header: {csv_header}\")\n",
    "            \n",
    "    sort = sorted(csvreader, key=operator.itemgetter(2))\n",
    "    \n",
    "    # TEMP - diplay input file data\n",
    "    for row in sort:\n",
    "        #print(row)\n",
    "        candidate_unique.add(row[2])\n",
    "\n",
    "print (candidate_unique)\n",
    "num_candidates = len(list(candidate_unique))\n",
    "print (\"# of candidates:\", num_candidates)\n"
   ]
  },
  {
   "cell_type": "code",
   "execution_count": 21,
   "metadata": {},
   "outputs": [
    {
     "name": "stdout",
     "output_type": "stream",
     "text": [
      "This is the candidate_unique set: \n",
      "{'Li', 'Khan', 'Correy', \"O'Tooley\"}\n",
      "\n",
      "# of candidates: 4\n"
     ]
    }
   ],
   "source": [
    "# open & loop through the rows and get total votes by candidates\n",
    "\n",
    "# OPTION 2  -- TEMP this is a variation not using sort\n",
    "\n",
    "# create a 'unique' candidate list\n",
    "candidate_unique = set()\n",
    "\n",
    "with open(csvpath) as csvfile:\n",
    "    csvreader = csv.reader(csvfile, delimiter=',')\n",
    "    \n",
    "    # Read the header row first (skip this step if there is row header)\n",
    "    csv_header = next(csvreader)\n",
    "    #print(f\"CSV Header: {csv_header}\")\n",
    "            \n",
    "    #sort = sorted(csvreader, key=operator.itemgetter(2))\n",
    "    \n",
    "    # TEMP - diplay input file data\n",
    "    # for row in sort: if using sort file\n",
    "    for row in csvreader:\n",
    "        #print(row)\n",
    "        candidate_unique.add(row[2])\n",
    "\n",
    "print (\"This is the candidate_unique set: \")\n",
    "print (candidate_unique)\n",
    "print ()\n",
    "num_candidates = len(list(candidate_unique))\n",
    "print (\"# of candidates:\", num_candidates)\n",
    "\n",
    "# REMEMBER:  sort is the new file to use"
   ]
  },
  {
   "cell_type": "code",
   "execution_count": 35,
   "metadata": {},
   "outputs": [
    {
     "name": "stdout",
     "output_type": "stream",
     "text": [
      "['Correy', 'Khan', 'Li', \"O'Tooley\"]\n",
      "\n",
      "# of candidates:  4\n"
     ]
    }
   ],
   "source": [
    "# convert the set to a list so the index can be referenced\n",
    "\n",
    "# create candidate list & num votes list\n",
    "candidate_lst = []\n",
    "\n",
    "for i in candidate_unique:\n",
    "    candidate_lst.append(i)\n",
    "\n",
    "# sort the list of candidates    \n",
    "candidate_lst.sort()    \n",
    "print (candidate_lst)\n",
    "print ()\n",
    "print (\"# of candidates: \", len(candidate_lst))"
   ]
  },
  {
   "cell_type": "code",
   "execution_count": 36,
   "metadata": {},
   "outputs": [
    {
     "name": "stdout",
     "output_type": "stream",
     "text": [
      "0\n",
      "0\n",
      "0\n",
      "0\n"
     ]
    }
   ],
   "source": [
    "# open & loop through the rows and get total votes by candidates\n",
    "\n",
    "# create votes list & set variables\n",
    "x = 0\n",
    "votes_lst = []\n",
    "    \n",
    "for x in range(0, num_candidates):\n",
    "    votes_lst = 0     \n",
    "    print(votes_lst)\n",
    "    "
   ]
  },
  {
   "cell_type": "code",
   "execution_count": 39,
   "metadata": {},
   "outputs": [
    {
     "name": "stdout",
     "output_type": "stream",
     "text": [
      "Row read for processing is:  ['17444633', 'Marsh', 'Correy']\n",
      "Candidate list index y value =  0\n",
      "\n",
      "Candidate matched!\n",
      "Correy = Correy\n",
      "row votes =  17444633\n",
      "\n",
      "Grand total votes =  17444633\n",
      "Contents of votes list: \n",
      "\n"
     ]
    },
    {
     "ename": "TypeError",
     "evalue": "'int' object is not subscriptable",
     "output_type": "error",
     "traceback": [
      "\u001b[1;31m---------------------------------------------------------------------------\u001b[0m",
      "\u001b[1;31mTypeError\u001b[0m                                 Traceback (most recent call last)",
      "\u001b[1;32m<ipython-input-39-24020c12a376>\u001b[0m in \u001b[0;36m<module>\u001b[1;34m\u001b[0m\n\u001b[0;32m     32\u001b[0m     \u001b[0mprint\u001b[0m \u001b[1;33m(\u001b[0m\u001b[1;34m\"Contents of votes list: \"\u001b[0m\u001b[1;33m)\u001b[0m\u001b[1;33m\u001b[0m\u001b[1;33m\u001b[0m\u001b[0m\n\u001b[0;32m     33\u001b[0m     \u001b[0mprint\u001b[0m \u001b[1;33m(\u001b[0m\u001b[1;33m)\u001b[0m\u001b[1;33m\u001b[0m\u001b[1;33m\u001b[0m\u001b[0m\n\u001b[1;32m---> 34\u001b[1;33m     \u001b[0mprint\u001b[0m \u001b[1;33m(\u001b[0m\u001b[0mvotes_lst\u001b[0m\u001b[1;33m[\u001b[0m\u001b[0my\u001b[0m\u001b[1;33m]\u001b[0m\u001b[1;33m)\u001b[0m\u001b[1;33m\u001b[0m\u001b[1;33m\u001b[0m\u001b[0m\n\u001b[0m\u001b[0;32m     35\u001b[0m \u001b[1;33m\u001b[0m\u001b[0m\n\u001b[0;32m     36\u001b[0m     \u001b[0mvotes_c\u001b[0m \u001b[1;33m=\u001b[0m \u001b[0mint\u001b[0m\u001b[1;33m(\u001b[0m\u001b[0mvotes_lst\u001b[0m\u001b[1;33m[\u001b[0m\u001b[0my\u001b[0m\u001b[1;33m]\u001b[0m\u001b[1;33m)\u001b[0m \u001b[1;33m+\u001b[0m \u001b[0mint\u001b[0m\u001b[1;33m(\u001b[0m\u001b[0mrow\u001b[0m\u001b[1;33m[\u001b[0m\u001b[1;36m0\u001b[0m\u001b[1;33m]\u001b[0m\u001b[1;33m)\u001b[0m\u001b[1;33m\u001b[0m\u001b[1;33m\u001b[0m\u001b[0m\n",
      "\u001b[1;31mTypeError\u001b[0m: 'int' object is not subscriptable"
     ]
    }
   ],
   "source": [
    "# open & loop through the rows and get total votes by candidates\n",
    "\n",
    "votes_c = 0\n",
    "total_votes = 0\n",
    "\n",
    "i = 1\n",
    "n = num_candidates\n",
    "\n",
    "print (\"This is the candidate list: \", candidate_lst)\n",
    "print ()\n",
    "\n",
    "with open(csvpath) as csvfile:\n",
    "    csvreader = csv.reader(csvfile, delimiter=',')\n",
    "    \n",
    "    # Read the header row first (skip this step if there is row header)\n",
    "    csv_header = next(csvreader)\n",
    "    print(f\"CSV Header: {csv_header}\")\n",
    "    print()\n",
    "    \n",
    "    sort = sorted(csvreader, key=operator.itemgetter(2))\n",
    "    sort\n",
    "    \n",
    "    for row in sort:\n",
    "        print (\"Row read for processing is: \", row)\n",
    "        # set index for candidate list to 0\n",
    "        y=0  \n",
    "        print (\"Candidate list index y value = \", y)\n",
    "        print ()\n",
    "        \n",
    "        # check if candidate on the input file does not match the candidate on the candidate list\n",
    "        # add 1 to the index until there is a match\n",
    "        while (row[2]) != candidate_lst[y]:\n",
    "            print ((row[2]), \"!=\", candidate_lst[y])\n",
    "            print ()\n",
    "            y = y+1\n",
    "            print (\"y counter = \", y)\n",
    "            print(\"candidate_lst[y] is: \", candidate_lst[y])\n",
    "            \n",
    "        # candidate matched!  add the votes on the row to the votes list of the candidate\n",
    "        print (\"Candidate matched!\")\n",
    "        print ((row[2]), \"=\", candidate_lst[y])\n",
    "        print (\"row votes = \", row[0])\n",
    "        print ()\n",
    "        \n",
    "        # add the votes to the grand total votes variable\n",
    "        total_votes = total_votes + int(row[0])\n",
    "        print (\"Grand total votes = \", total_votes)\n",
    "        print\n",
    "        \n",
    "        \n",
    "        # add votes of candidate to the votes_lst\n",
    "                \n",
    "        # convert to integer to add votes, then convert to string to store in votes list \n",
    "        print (\"Contents of votes list: \")\n",
    "        print ()\n",
    "        print (votes_lst[y])\n",
    "        \n",
    "        votes_c = int(votes_lst[y]) + int(row[0]) \n",
    "        votes_lst[y] = str(votes_lst[y] + int(row[0]))\n",
    "        \n",
    "        # store the updated candidate vote total into the votes list\n",
    "        print (votes_lst[y])\n",
    "        \n",
    "        votes_lst\n",
    "        \n",
    "        # add the votes to the grand total votes variable\n",
    "        votes_total = votes_total + votes_c\n",
    "        print (\"Grand total votes = \", votes_total)\n",
    "          \n",
    "        print(row[2])\n",
    "        votes_lst[y] = votes_lst[y] + int(row[0])\n",
    "        votes_lst\n",
    "                \n",
    "        if (row[2]) == candidate_lst[i+1]:\n",
    "            print (\"i counter = \", i)\n",
    "            print(\"candidate_lst[i] is: \", candidate_lst[i])\n",
    "            print(row[2])\n",
    "            votes_lst[i] = row[0]\n",
    "            votes_lst\n",
    "                \n",
    "        i = i + 1\n",
    "        #break\n",
    "                    \n",
    "print (candidate_lst)\n",
    "votes_lst"
   ]
  },
  {
   "cell_type": "code",
   "execution_count": 13,
   "metadata": {},
   "outputs": [
    {
     "name": "stdout",
     "output_type": "stream",
     "text": [
      "Correy\n"
     ]
    },
    {
     "ename": "NameError",
     "evalue": "name 'y' is not defined",
     "output_type": "error",
     "traceback": [
      "\u001b[1;31m---------------------------------------------------------------------------\u001b[0m",
      "\u001b[1;31mNameError\u001b[0m                                 Traceback (most recent call last)",
      "\u001b[1;32m<ipython-input-13-dec1d8bede4b>\u001b[0m in \u001b[0;36m<module>\u001b[1;34m\u001b[0m\n\u001b[0;32m      1\u001b[0m \u001b[0mprint\u001b[0m\u001b[1;33m(\u001b[0m\u001b[0mrow\u001b[0m\u001b[1;33m[\u001b[0m\u001b[1;36m2\u001b[0m\u001b[1;33m]\u001b[0m\u001b[1;33m)\u001b[0m\u001b[1;33m\u001b[0m\u001b[1;33m\u001b[0m\u001b[0m\n\u001b[1;32m----> 2\u001b[1;33m \u001b[0mvotes_lst\u001b[0m\u001b[1;33m[\u001b[0m\u001b[0my\u001b[0m\u001b[1;33m]\u001b[0m \u001b[1;33m=\u001b[0m \u001b[0mvotes_lst\u001b[0m\u001b[1;33m[\u001b[0m\u001b[0my\u001b[0m\u001b[1;33m]\u001b[0m \u001b[1;33m+\u001b[0m \u001b[0mint\u001b[0m\u001b[1;33m(\u001b[0m\u001b[0mrow\u001b[0m\u001b[1;33m[\u001b[0m\u001b[1;36m0\u001b[0m\u001b[1;33m]\u001b[0m\u001b[1;33m)\u001b[0m\u001b[1;33m\u001b[0m\u001b[1;33m\u001b[0m\u001b[0m\n\u001b[0m\u001b[0;32m      3\u001b[0m \u001b[0mvotes_lst\u001b[0m\u001b[1;33m\u001b[0m\u001b[1;33m\u001b[0m\u001b[0m\n\u001b[0;32m      4\u001b[0m \u001b[1;33m\u001b[0m\u001b[0m\n\u001b[0;32m      5\u001b[0m \u001b[1;32mif\u001b[0m \u001b[1;33m(\u001b[0m\u001b[0mrow\u001b[0m\u001b[1;33m[\u001b[0m\u001b[1;36m2\u001b[0m\u001b[1;33m]\u001b[0m\u001b[1;33m)\u001b[0m \u001b[1;33m==\u001b[0m \u001b[0mcandidate_lst\u001b[0m\u001b[1;33m[\u001b[0m\u001b[0mi\u001b[0m\u001b[1;33m+\u001b[0m\u001b[1;36m1\u001b[0m\u001b[1;33m]\u001b[0m\u001b[1;33m:\u001b[0m\u001b[1;33m\u001b[0m\u001b[1;33m\u001b[0m\u001b[0m\n",
      "\u001b[1;31mNameError\u001b[0m: name 'y' is not defined"
     ]
    }
   ],
   "source": [
    "        print(row[2])\n",
    "        votes_lst[y] = votes_lst[y] + int(row[0])\n",
    "        votes_lst\n",
    "                \n",
    "        if (row[2]) == candidate_lst[i+1]:\n",
    "            print (\"i counter = \", i)\n",
    "            print(\"candidate_lst[i] is: \", candidate_lst[i])\n",
    "            print(row[2])\n",
    "            votes_lst[i] = row[0]\n",
    "            votes_lst\n",
    "                \n",
    "                \n",
    "        i = i + 1\n",
    "             \n",
    "print (candidate_lst)\n",
    "votes_lst"
   ]
  },
  {
   "cell_type": "code",
   "execution_count": 63,
   "metadata": {},
   "outputs": [],
   "source": [
    "# <insert % calculations here>\n",
    "\n"
   ]
  },
  {
   "cell_type": "code",
   "execution_count": 64,
   "metadata": {},
   "outputs": [],
   "source": [
    "# create output file <analysis_PyBank.txt> to store analysis data and \n",
    "# store the file in the <analysis> folder\n",
    "# import os\n",
    "output_path=os.path.join('analysis','analysis_PyPoll.txt')"
   ]
  },
  {
   "cell_type": "code",
   "execution_count": 6,
   "metadata": {},
   "outputs": [],
   "source": [
    "# open the output file and write the analysis data results\n",
    "# TEMP -- this is to test writing to a text file\n",
    "with open(output_path, 'w', newline='') as txtfile:\n",
    "    header1 = 'Election Results \\n'\n",
    "    header2 = '--------------------------------------- \\n'\n",
    "    line1 = 'Total Votes: \\n'\n",
    "    line2 = '--------------------------------------- \\n'\n",
    "    line3 = '<candidate1 variable>:, % variable, votes \\n'\n",
    "    line4 = '<candidate2 variable>:, % variable, votes \\n'\n",
    "    line5 = '<candidate3 variable>:, % variable, votes \\n'\n",
    "    line6 = '--------------------------------------- \\n'\n",
    "    line7 = 'Winner: <candidatewinner variable> \\n'\n",
    "    line8 = '--------------------------------------- \\n'\n",
    "    txtfile.write(header1)\n",
    "    txtfile.write(header2)\n",
    "    txtfile.write(line1)\n",
    "    txtfile.write(line2)\n",
    "    txtfile.write(line3)\n",
    "    txtfile.write(line4)\n",
    "    txtfile.write(line5)\n",
    "    txtfile.write(line6)\n",
    "    txtfile.write(line7)\n",
    "    txtfile.write(line8)\n",
    "    "
   ]
  }
 ],
 "metadata": {
  "kernelspec": {
   "display_name": "Python 3",
   "language": "python",
   "name": "python3"
  },
  "language_info": {
   "codemirror_mode": {
    "name": "ipython",
    "version": 3
   },
   "file_extension": ".py",
   "mimetype": "text/x-python",
   "name": "python",
   "nbconvert_exporter": "python",
   "pygments_lexer": "ipython3",
   "version": "3.8.5"
  }
 },
 "nbformat": 4,
 "nbformat_minor": 4
}
